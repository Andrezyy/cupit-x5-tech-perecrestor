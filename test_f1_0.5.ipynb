{
 "cells": [
  {
   "cell_type": "code",
   "execution_count": 1,
   "metadata": {
    "id": "H-nFzY9TPlDA"
   },
   "outputs": [],
   "source": [
    "import pandas as pd\n",
    "import numpy as np\n",
    "import seaborn as sns\n",
    "import matplotlib.pyplot as plt\n",
    "import time\n",
    "import warnings\n",
    "warnings.filterwarnings('ignore')\n",
    "import re \n",
    "\n",
    "\n",
    "from sklearn.preprocessing import LabelEncoder, OneHotEncoder\n",
    "from sklearn.metrics import f1_score, accuracy_score, roc_auc_score, precision_score, recall_score, classification_report\n",
    "from sklearn.model_selection import GridSearchCV, train_test_split, RandomizedSearchCV\n",
    "from sklearn.utils import shuffle\n",
    "from sklearn.preprocessing import StandardScaler\n",
    "\n",
    "from sklearn.linear_model import LogisticRegression, SGDClassifier\n",
    "from sklearn.ensemble import RandomForestClassifier\n",
    "from sklearn.tree import DecisionTreeClassifier\n",
    "from lightgbm import LGBMClassifier\n",
    "from catboost import CatBoostClassifier\n",
    "from xgboost import XGBClassifier"
   ]
  },
  {
   "cell_type": "markdown",
   "metadata": {
    "id": "B9gM5tkhPlDG"
   },
   "source": [
    "### Открывыем файл."
   ]
  },
  {
   "cell_type": "code",
   "execution_count": 2,
   "metadata": {
    "id": "PLfh_zkFPlDI"
   },
   "outputs": [
    {
     "data": {
      "text/plain": [
       "0    0.908056\n",
       "1    0.091944\n",
       "Name: is_in_club, dtype: float64"
      ]
     },
     "execution_count": 2,
     "metadata": {},
     "output_type": "execute_result"
    }
   ],
   "source": [
    "data = pd.read_csv('Cup_IT_2022_Датасет_Data_Science.csv').sort_index(axis=1)\n",
    "data = data.drop(columns = ['client_id'])\n",
    "data['is_in_club'].value_counts(normalize=True)"
   ]
  },
  {
   "cell_type": "markdown",
   "metadata": {
    "id": "ilcsRBP9PlDL"
   },
   "source": [
    "### Словарь с группировкой по категориям.\n",
    "Ключ - параметр<br> e.g. cnt_checks <br><br>\n",
    "Значение - все параметры + категория <br>\n",
    "e.g. 'cnt_checks_10_Крупы и зерновые'"
   ]
  },
  {
   "cell_type": "code",
   "execution_count": 3,
   "metadata": {
    "id": "j0OBBmJDPlDM"
   },
   "outputs": [],
   "source": [
    "columns = data.columns.tolist()\n",
    "category_list = [\n",
    "                 'Крупы и зерновые',\n",
    "                 'Мясная гастрономия', \n",
    "                 'Овощи - Фрукты', \n",
    "                 'Птица и изделия из птицы', \n",
    "                 'Рыба и рыбные изделия', \n",
    "                 'Сыры',\n",
    "                 '']\n",
    "                 \n",
    "parameters_list = [\n",
    "                   'cnt_checks', \n",
    "                   'rto', \n",
    "                   'rto_stddev', \n",
    "                   'rto_std'\n",
    "                   ]\n",
    "\n",
    "output_dict = {}\n",
    "\n",
    "\n",
    "for column in columns:\n",
    "    for parameter in parameters_list:\n",
    "        for category in  category_list:\n",
    "            if category != '':\n",
    "                regular = re.findall(f'{parameter}_\\d+_{category}', column)\n",
    "                key = f'{parameter}_{category}'\n",
    "            else:\n",
    "                regular = re.findall(f'{parameter}_\\d+', column)\n",
    "                key = f'{parameter}'\n",
    "                \n",
    "            if  len(regular) != 0 and regular[0]==column:\n",
    "                if key not in output_dict.keys():\n",
    "                    output_dict[key] = []\n",
    "                    output_dict[key].append(column)\n",
    "                else:\n",
    "                    output_dict[key].append(column)\n"
   ]
  },
  {
   "cell_type": "markdown",
   "metadata": {
    "id": "I09MTl-TPlDN"
   },
   "source": [
    "### Создание колонок"
   ]
  },
  {
   "cell_type": "code",
   "execution_count": 4,
   "metadata": {
    "id": "-bnTHgYiPlDO"
   },
   "outputs": [],
   "source": [
    "data = data.copy()\n",
    "\n",
    "for key in output_dict.keys():\n",
    "    data[key] = np.zeros(data.shape[0])\n",
    "    if 'rto_stddev' not in key and 'rto_std' not in key:\n",
    "        columns = output_dict[key]\n",
    "        for column in columns:\n",
    "            sum_column = data[column].fillna(0)\n",
    "            data[key] += sum_column\n",
    "        # data[key] = data[key] / len(columns)\n",
    "        data = data.drop(columns = columns)\n",
    "    else:\n",
    "        columns = output_dict[key]\n",
    "        mean = pd.DataFrame()\n",
    "        mean['summary'] = np.zeros(data.shape[0])\n",
    "        for column in columns:\n",
    "            sum_column = data[column].fillna(0)\n",
    "            mean['summary'] += sum_column\n",
    "        mean['summary'] /= len(columns)\n",
    "        data[key] = mean['summary']\n",
    "        data = data.drop(columns = columns)"
   ]
  },
  {
   "cell_type": "markdown",
   "metadata": {},
   "source": [
    "### Средний чек по категориям."
   ]
  },
  {
   "cell_type": "code",
   "execution_count": 5,
   "metadata": {},
   "outputs": [],
   "source": [
    "mean_dict = {\n",
    "            'mean_rto_Крупы и зерновые' : ['cnt_checks_Крупы и зерновые', 'rto_Крупы и зерновые'], \n",
    "             'mean_rto_Мясная гастрономия' : ['cnt_checks_Мясная гастрономия', 'rto_Мясная гастрономия'],\n",
    "             'mean_rto_Овощи - Фрукты' : ['cnt_checks_Овощи - Фрукты', 'rto_Овощи - Фрукты'],\n",
    "             'mean_rto_Сыры' : ['cnt_checks_Сыры', 'rto_Сыры'],\n",
    "             'mean_rto_Рыба и рыбные изделия' : ['cnt_checks_Рыба и рыбные изделия', 'rto_Рыба и рыбные изделия'],\n",
    "             'mean_rto_Птица и изделия из птицы' : ['cnt_checks_Птица и изделия из птицы', 'rto_Птица и изделия из птицы'],\n",
    "             'mean_rto' : ['cnt_checks', 'rto'],\n",
    "            }\n",
    "\n",
    "for key in mean_dict.keys():\n",
    "    delimoe = data[mean_dict[key][1]]\n",
    "    delit = data[mean_dict[key][0]]\n",
    "    data[key] = delimoe/delit\n",
    "\n",
    "for key in mean_dict.keys():\n",
    "    data[key] = data[key].fillna(data[key].median())"
   ]
  },
  {
   "cell_type": "code",
   "execution_count": 6,
   "metadata": {},
   "outputs": [],
   "source": [
    "data = data.drop(columns=['rto_stddev_Рыба и рыбные изделия', 'cnt_checks_Рыба и рыбные изделия'])"
   ]
  },
  {
   "cell_type": "code",
   "execution_count": 7,
   "metadata": {
    "id": "fcpiR0uvi3F0"
   },
   "outputs": [],
   "source": [
    "def count_zeros(row):\n",
    "  count = 0\n",
    "  if row['cnt_checks_Крупы и зерновые'] == 0:\n",
    "    count+=1\n",
    "  if row['cnt_checks_Мясная гастрономия'] == 0:\n",
    "    count+=1\n",
    "  if row['cnt_checks_Овощи - Фрукты'] == 0:\n",
    "    count+=1\n",
    "  if row['cnt_checks_Птица и изделия из птицы'] == 0:\n",
    "    count+=1\n",
    "  if row['cnt_checks_Сыры'] == 0:\n",
    "    count+=1\n",
    "  return count\n",
    "\n",
    "data['count_zeros'] = data.apply(count_zeros, axis=1)"
   ]
  },
  {
   "cell_type": "code",
   "execution_count": 8,
   "metadata": {},
   "outputs": [
    {
     "data": {
      "text/plain": [
       "(48.278099850786425, 72.70905137703333)"
      ]
     },
     "execution_count": 8,
     "metadata": {},
     "output_type": "execute_result"
    }
   ],
   "source": [
    "data[data['is_in_club'] == 0]['cnt_checks'].mean(axis=0), data[data['is_in_club'] == 1]['cnt_checks'].mean(axis=0)"
   ]
  },
  {
   "cell_type": "code",
   "execution_count": 9,
   "metadata": {
    "id": "RkGJHqMPQs7N"
   },
   "outputs": [
    {
     "name": "stdout",
     "output_type": "stream",
     "text": [
      "<class 'pandas.core.frame.DataFrame'>\n",
      "Int64Index: 121100 entries, 0 to 135058\n",
      "Data columns (total 28 columns):\n",
      " #   Column                               Non-Null Count   Dtype  \n",
      "---  ------                               --------------   -----  \n",
      " 0   is_in_club                           121100 non-null  int64  \n",
      " 1   cnt_checks                           121100 non-null  float64\n",
      " 2   cnt_checks_Крупы и зерновые          121100 non-null  float64\n",
      " 3   cnt_checks_Мясная гастрономия        121100 non-null  float64\n",
      " 4   cnt_checks_Овощи - Фрукты            121100 non-null  float64\n",
      " 5   cnt_checks_Птица и изделия из птицы  121100 non-null  float64\n",
      " 6   cnt_checks_Сыры                      121100 non-null  float64\n",
      " 7   rto                                  121100 non-null  float64\n",
      " 8   rto_Крупы и зерновые                 121100 non-null  float64\n",
      " 9   rto_Мясная гастрономия               121100 non-null  float64\n",
      " 10  rto_Овощи - Фрукты                   121100 non-null  float64\n",
      " 11  rto_Птица и изделия из птицы         121100 non-null  float64\n",
      " 12  rto_Рыба и рыбные изделия            121100 non-null  float64\n",
      " 13  rto_Сыры                             121100 non-null  float64\n",
      " 14  rto_std                              121100 non-null  float64\n",
      " 15  rto_stddev_Крупы и зерновые          121100 non-null  float64\n",
      " 16  rto_stddev_Мясная гастрономия        121100 non-null  float64\n",
      " 17  rto_stddev_Овощи - Фрукты            121100 non-null  float64\n",
      " 18  rto_stddev_Птица и изделия из птицы  121100 non-null  float64\n",
      " 19  rto_stddev_Сыры                      121100 non-null  float64\n",
      " 20  mean_rto_Крупы и зерновые            121100 non-null  float64\n",
      " 21  mean_rto_Мясная гастрономия          121100 non-null  float64\n",
      " 22  mean_rto_Овощи - Фрукты              121100 non-null  float64\n",
      " 23  mean_rto_Сыры                        121100 non-null  float64\n",
      " 24  mean_rto_Рыба и рыбные изделия       121100 non-null  float64\n",
      " 25  mean_rto_Птица и изделия из птицы    121100 non-null  float64\n",
      " 26  mean_rto                             121100 non-null  float64\n",
      " 27  count_zeros                          121100 non-null  int64  \n",
      "dtypes: float64(26), int64(2)\n",
      "memory usage: 26.8 MB\n"
     ]
    }
   ],
   "source": [
    "list_index = data[(data['count_zeros'] > 2) & (data['is_in_club'] == 0)]['is_in_club'].index\n",
    "data = data.drop(list_index, axis=0)\n",
    "data.info()"
   ]
  },
  {
   "cell_type": "code",
   "execution_count": 10,
   "metadata": {
    "id": "weNnGW8oj5dW"
   },
   "outputs": [],
   "source": [
    "data = data.drop(columns = 'count_zeros')"
   ]
  },
  {
   "cell_type": "markdown",
   "metadata": {
    "id": "NKzU7luPPlDQ"
   },
   "source": [
    "### Удалим стандартные отклонения."
   ]
  },
  {
   "cell_type": "code",
   "execution_count": 179,
   "metadata": {
    "id": "L4PTISbOPlDR"
   },
   "outputs": [],
   "source": [
    "# data = data.drop(columns=['rto_stddev_Крупы и зерновые',\n",
    "#        'rto_stddev_Мясная гастрономия', 'rto_stddev_Овощи - Фрукты',\n",
    "#        'rto_stddev_Птица и изделия из птицы', 'rto_stddev_Сыры'])"
   ]
  },
  {
   "cell_type": "code",
   "execution_count": 11,
   "metadata": {},
   "outputs": [],
   "source": [
    "data = data.drop(columns=['cnt_checks_Мясная гастрономия', 'cnt_checks_Крупы и зерновые', 'cnt_checks',\n",
    "                         'cnt_checks_Овощи - Фрукты', 'cnt_checks_Птица и изделия из птицы', 'cnt_checks_Сыры'])"
   ]
  },
  {
   "cell_type": "code",
   "execution_count": 12,
   "metadata": {
    "id": "KSY5rEO4PlDS"
   },
   "outputs": [],
   "source": [
    "def boxplot_clear(data, column, x=7):\n",
    "    \n",
    "    data_to_clear = data\n",
    "    \n",
    "    \n",
    "    print(f'___________________BEFORE CLEAR: {column}___________________\\n\\n')\n",
    "    sns.boxplot(data[column])\n",
    "    plt.show()\n",
    "    sns.distplot(data[column])\n",
    "    plt.show()\n",
    "    \n",
    "    \n",
    "    Q1 = data[column].quantile(0.25)\n",
    "    Q3 = data[column].quantile(0.75)\n",
    "    IQR = Q3 - Q1\n",
    "    \n",
    "    first_border = Q1 - x*IQR\n",
    "    second_border = Q3 + x*IQR\n",
    "    \n",
    "    cleared_data = data_to_clear[(data_to_clear[column] >= first_border) & (data_to_clear[column] <= second_border)] # \n",
    "    \n",
    "    \n",
    "    \n",
    "    print(f'___________________AFTER CLEAR: {column}________________\\n\\n')\n",
    "    sns.boxplot(cleared_data[column])\n",
    "    plt.show()\n",
    "    sns.distplot(cleared_data[column])\n",
    "    plt.show()\n",
    "    \n",
    "    \n",
    "    \n",
    "    print(f'Границы чистки выбросов: от:{first_border} до:{second_border}\\n\\n\\n')\n",
    "    \n",
    "    data.info()\n",
    "    return cleared_data"
   ]
  },
  {
   "cell_type": "code",
   "execution_count": 182,
   "metadata": {},
   "outputs": [],
   "source": [
    "# data['is_in_club'].value_counts(normalize=True)"
   ]
  },
  {
   "cell_type": "code",
   "execution_count": null,
   "metadata": {
    "colab": {
     "base_uri": "https://localhost:8080/",
     "height": 1000
    },
    "id": "RaUIuLLhPlDT",
    "outputId": "ff7ca147-d282-4d4f-e133-25723fa2404f"
   },
   "outputs": [],
   "source": [
    "columns = ['cnt_checks', 'cnt_checks_Крупы и зерновые',\n",
    "       'cnt_checks_Мясная гастрономия', 'cnt_checks_Овощи - Фрукты',\n",
    "       'cnt_checks_Птица и изделия из птицы', 'cnt_checks_Сыры', 'rto',\n",
    "       'rto_Крупы и зерновые', 'rto_Мясная гастрономия', 'rto_Овощи - Фрукты',\n",
    "       'rto_Птица и изделия из птицы', 'rto_Сыры',\n",
    "       'rto_std']\n",
    "\n",
    "for column in columns:\n",
    "    data = boxplot_clear(data, column)"
   ]
  },
  {
   "cell_type": "markdown",
   "metadata": {
    "id": "gKL1d_AfPlDU"
   },
   "source": [
    "### Обучение"
   ]
  },
  {
   "cell_type": "code",
   "execution_count": 183,
   "metadata": {},
   "outputs": [
    {
     "data": {
      "text/plain": [
       "0    0.837578\n",
       "1    0.162422\n",
       "Name: is_in_club, dtype: float64"
      ]
     },
     "execution_count": 183,
     "metadata": {},
     "output_type": "execute_result"
    }
   ],
   "source": [
    "data['is_in_club'].value_counts(normalize=True)"
   ]
  },
  {
   "cell_type": "code",
   "execution_count": 13,
   "metadata": {},
   "outputs": [
    {
     "name": "stdout",
     "output_type": "stream",
     "text": [
      "(96880, 20) (96880,)\n",
      "(24220, 20) (24220,)\n"
     ]
    }
   ],
   "source": [
    "features = data.drop(columns=['is_in_club'])\n",
    "\n",
    "# scaler = StandardScaler()\n",
    "# features = scaler.fit_transform(features)\n",
    "\n",
    "target = data['is_in_club']\n",
    "features_train, features_test, target_train, target_test = train_test_split(features, target, test_size=.2, random_state=666, stratify=target)\n",
    "#  features_train = features_train[(features_train['rto'] < 18000) &(features_train['is_in_club'] == 0)]\n",
    "\n",
    "\n",
    "print(features_train.shape, target_train.shape)\n",
    "print(features_test.shape, target_test.shape)"
   ]
  },
  {
   "cell_type": "code",
   "execution_count": 185,
   "metadata": {},
   "outputs": [],
   "source": [
    "# target_train[target_train==1].index.shape"
   ]
  },
  {
   "cell_type": "code",
   "execution_count": 186,
   "metadata": {},
   "outputs": [],
   "source": [
    "# features_train1 = features_train[features_train.index == target_train[target_train==0].index]\n",
    "# features_train1 = features_train.loc[target_train[target_train==0].index.tolist()]\n",
    "\n",
    "\n",
    "# features_train1_index = features_train1[features_train1['rto'] < 25000].index\n",
    "# features_train, target_train = features_train.drop(features_train1_index), target_train.drop(features_train1_index)\n",
    "\n",
    "# features_train.shape, target_train.shape"
   ]
  },
  {
   "cell_type": "code",
   "execution_count": 187,
   "metadata": {},
   "outputs": [],
   "source": [
    "# features_train2 = features_train.loc[target_train[target_train==1].index.tolist()]\n",
    "# features_train2"
   ]
  },
  {
   "cell_type": "code",
   "execution_count": 14,
   "metadata": {
    "colab": {
     "base_uri": "https://localhost:8080/"
    },
    "id": "LtqnWrA2f4AW",
    "outputId": "389ce47b-b001-45f1-f7e3-0aee0bfa1873"
   },
   "outputs": [
    {
     "name": "stdout",
     "output_type": "stream",
     "text": [
      "0    0.859681\n",
      "1    0.140319\n",
      "Name: is_in_club, dtype: float64\n",
      "(70796, 20) (70796,)\n",
      "0    0.753896\n",
      "1    0.246104\n",
      "Name: is_in_club, dtype: float64\n",
      "(80730, 20) (80730,)\n"
     ]
    }
   ],
   "source": [
    "def downsample(features, target, fraction):\n",
    "    features_zeros = features[target == 0]\n",
    "    features_ones = features[target == 1]\n",
    "    target_zeros = target[target == 0]\n",
    "    target_ones = target[target == 1]\n",
    " \n",
    "    features_downsampled = pd.concat(\n",
    "        [features_zeros.sample(frac=fraction, random_state=12345)] + [features_ones])\n",
    "    target_downsampled = pd.concat(\n",
    "        [target_zeros.sample(frac=fraction, random_state=12345)] + [target_ones])\n",
    " \n",
    "    features_downsampled, target_downsampled = shuffle(\n",
    "        features_downsampled, target_downsampled, random_state=12345)\n",
    " \n",
    "    return features_downsampled, target_downsampled\n",
    " \n",
    " \n",
    " \n",
    "def upsample(features, target, repeat):\n",
    "    features_zeros = features[target == 0]\n",
    "    features_ones = features[target == 1]\n",
    "    target_zeros = target[target == 0]\n",
    "    target_ones = target[target == 1]\n",
    " \n",
    "    features_upsampled = pd.concat([features_zeros] + [features_ones] * repeat)\n",
    "    target_upsampled = pd.concat([target_zeros] + [target_ones] * repeat)\n",
    " \n",
    "    features_upsampled, target_upsampled = shuffle(\n",
    "        features_upsampled, target_upsampled, random_state=12345)\n",
    " \n",
    "    return features_upsampled, target_upsampled\n",
    " \n",
    " \n",
    "features_train, target_train = downsample(features_train, target_train, 0.7)\n",
    "print(target_train.value_counts(normalize=True))\n",
    "print(features_train.shape, target_train.shape)\n",
    " \n",
    "  \n",
    " \n",
    "features_train, target_train = upsample(features_train, target_train, 2)\n",
    "print(target_train.value_counts(normalize=True))\n",
    "print(features_train.shape, target_train.shape)"
   ]
  },
  {
   "cell_type": "code",
   "execution_count": 15,
   "metadata": {
    "id": "TX05Qwi5PlDV"
   },
   "outputs": [],
   "source": [
    "def learn_model(models, features_train, features_test, target_train, target_test, title=''):\n",
    "    \n",
    "    def predict(model, train_predict, target_train, test_predict, target_test):\n",
    "        \n",
    "        metrics = {'f1' : f1_score,\n",
    "                   'accuracy' : accuracy_score,\n",
    "                   'roc auc score' : roc_auc_score,\n",
    "                   'precision' : precision_score,\n",
    "                   'recall' : recall_score\n",
    "                  }\n",
    "        columns = ['train', 'test']\n",
    "        data = []\n",
    "        for metric in metrics.keys():\n",
    "            data.append([metrics[metric](target_train, train_predict) ,metrics[metric](target_test, test_predict)])\n",
    "\n",
    "\n",
    "        results = pd.DataFrame(data=data, index=metrics.keys(), columns=columns)\n",
    "        \n",
    "        print(results)\n",
    "        print()\n",
    "    \n",
    "    def fit_model():\n",
    "        \n",
    "\n",
    "        plot_data = {}\n",
    "        learned_model = {}\n",
    "        \n",
    "        for model in models.keys():\n",
    "            print(f'__________{model}__________')\n",
    "            model_learn =  models[model][0]\n",
    "            params = models[model][1]\n",
    "            \n",
    "            start_time = time.time()\n",
    "            \n",
    "            grid = GridSearchCV(model_learn, cv=5,param_grid=params, n_jobs=-1, scoring = 'f1')\n",
    "            \n",
    "           \n",
    "            grid.fit(features_train, target_train)\n",
    "                \n",
    "            end_time = time.time()\n",
    "            fit_time = end_time - start_time\n",
    "            \n",
    "            plot_data[model] = fit_time # время обучения модели\n",
    "            learned_model[model] = [grid, grid.best_params_] # сохраняем модель\n",
    "            \n",
    "            import pickle\n",
    "            filename = 'finalized_model' + f'_{model}' + '.sav'\n",
    "            pickle.dump(learned_model[model], open(filename, 'wb'))\n",
    "            \n",
    "            learned_model[model]\n",
    "            \n",
    "            train_predict = grid.predict(features_train)\n",
    "            test_predict = grid.predict(features_test)\n",
    "            \n",
    "            predicted = predict(model, train_predict, target_train, test_predict, target_test)\n",
    "            \n",
    "            \n",
    "        sns.barplot(x=list(plot_data.keys()), y=list(plot_data.values()), saturation=1)    \n",
    "        plt.xlabel('Модели')\n",
    "        plt.ylabel('Время')\n",
    "        plt.title(f'Время обучения {title}')\n",
    "        plt.show()\n",
    "        \n",
    "        return learned_model\n",
    "        \n",
    "        \n",
    "    result_model = fit_model()    \n",
    "    \n",
    "    \n",
    "        \n",
    "    return result_model\n",
    "            \n"
   ]
  },
  {
   "cell_type": "code",
   "execution_count": 190,
   "metadata": {
    "id": "TbsJ_XCcPlDW"
   },
   "outputs": [],
   "source": [
    "# models = {'Linear' : [LogisticRegression(random_state=666, n_jobs=-1), {'solver' : ['newton-cg', 'lbfgs', 'liblinear', 'sag', 'saga'], \n",
    "#                                                                         'penalty':['l1', 'l2'], \n",
    "#                                                                         'class_weight':['balanced', None]}],\n",
    "#          'Forest' : [RandomForestClassifier(random_state=666, n_jobs=-1), {'max_depth':range(1, 5),\n",
    "#                                                                             'min_samples_leaf':range(1,10),\n",
    "#                                                                             'min_samples_split':range (2, 10,2)}],\n",
    "          \n",
    "#           'Tree': [DecisionTreeClassifier(random_state=666), {'max_depth':range(1, 10),\n",
    "#                                                               'min_samples_leaf':range(1 ,15),\n",
    "#                                                               'min_samples_split':range (2, 17,2)}],\n",
    "          \n",
    "#           'LightGBM' : [LGBMClassifier(random_state=666, n_jobs=-1), {'learning_rate':[0.001, 0.01, 0.1], \n",
    "#                                                                      'max_depth':range(1, 10),\n",
    "#                                                                      'n_estimators':range(1, 500, 25)}],\n",
    "          \n",
    "#           'CatBoost' : [CatBoostClassifier(random_state=666, silent=True), {'learning_rate':[0.01, 0.1], \n",
    "#                                                                             'max_depth':range(1, 5),\n",
    "#                                                                             'n_estimators':range(500, 2000, 250)}],\n",
    "#           'XGBClassifier' : [XGBClassifier(n_jobs=-1), {'max_depth':range(1, 5),\n",
    "#                                                        'learning_rate':[0.01, 0.1],\n",
    "#                                                        'n_estimators':range(50, 500, 50)}]\n",
    "#          }"
   ]
  },
  {
   "cell_type": "code",
   "execution_count": 16,
   "metadata": {
    "id": "dyx7K1hy64AH"
   },
   "outputs": [],
   "source": [
    "models = {'Linear' : [LogisticRegression(random_state=666, n_jobs=-1), {'solver' : \n",
    "                                                                        ['newton-cg', 'lbfgs', 'liblinear', 'sag', 'saga'], \n",
    "                                                                        'penalty':[ 'l2'], \n",
    "                                                                        'class_weight':['balanced', None]}],\n",
    "          'LightGBM' : [LGBMClassifier(random_state=666, n_jobs=-1), {'learning_rate':[0.001, 0.01, 0.1], \n",
    "                                                                      'max_depth':range(1, 10),\n",
    "                                                                      'n_estimators':range(1, 500, 25)\n",
    "                                                                      }]\n",
    "                                                                        }\n"
   ]
  },
  {
   "cell_type": "code",
   "execution_count": 17,
   "metadata": {},
   "outputs": [
    {
     "data": {
      "text/plain": [
       "Index(['is_in_club', 'rto', 'rto_Крупы и зерновые', 'rto_Мясная гастрономия',\n",
       "       'rto_Овощи - Фрукты', 'rto_Птица и изделия из птицы',\n",
       "       'rto_Рыба и рыбные изделия', 'rto_Сыры', 'rto_std',\n",
       "       'rto_stddev_Крупы и зерновые', 'rto_stddev_Мясная гастрономия',\n",
       "       'rto_stddev_Овощи - Фрукты', 'rto_stddev_Птица и изделия из птицы',\n",
       "       'rto_stddev_Сыры', 'mean_rto_Крупы и зерновые',\n",
       "       'mean_rto_Мясная гастрономия', 'mean_rto_Овощи - Фрукты',\n",
       "       'mean_rto_Сыры', 'mean_rto_Рыба и рыбные изделия',\n",
       "       'mean_rto_Птица и изделия из птицы', 'mean_rto'],\n",
       "      dtype='object')"
      ]
     },
     "execution_count": 17,
     "metadata": {},
     "output_type": "execute_result"
    }
   ],
   "source": [
    "data.columns"
   ]
  },
  {
   "cell_type": "code",
   "execution_count": 18,
   "metadata": {},
   "outputs": [
    {
     "name": "stdout",
     "output_type": "stream",
     "text": [
      "__________Linear__________\n",
      "                  train      test\n",
      "f1             0.465366  0.289142\n",
      "accuracy       0.689657  0.718621\n",
      "roc auc score  0.642227  0.647476\n",
      "precision      0.403942  0.195129\n",
      "recall         0.548822  0.557971\n",
      "\n",
      "__________LightGBM__________\n",
      "                  train      test\n",
      "f1             0.633770  0.258989\n",
      "accuracy       0.864028  0.886829\n",
      "roc auc score  0.734041  0.579487\n",
      "precision      0.939931  0.394239\n",
      "recall         0.478055  0.192834\n",
      "\n"
     ]
    },
    {
     "data": {
      "image/png": "[encoded data removed]",
      "text/plain": [
       "<Figure size 432x288 with 1 Axes>"
      ]
     },
     "metadata": {
      "needs_background": "light"
     },
     "output_type": "display_data"
    },
    {
     "name": "stdout",
     "output_type": "stream",
     "text": [
      "Wall time: 43min 20s\n"
     ]
    }
   ],
   "source": [
    "%%time\n",
    "models = learn_model(models, features_train, features_test, target_train, target_test)"
   ]
  },
  {
   "cell_type": "code",
   "execution_count": 107,
   "metadata": {},
   "outputs": [
    {
     "data": {
      "text/plain": [
       "Index(['is_in_club', 'rto', 'rto_Крупы и зерновые', 'rto_Мясная гастрономия',\n",
       "       'rto_Овощи - Фрукты', 'rto_Птица и изделия из птицы',\n",
       "       'rto_Рыба и рыбные изделия', 'rto_Сыры', 'rto_std',\n",
       "       'mean_rto_Крупы и зерновые', 'mean_rto_Мясная гастрономия',\n",
       "       'mean_rto_Овощи - Фрукты', 'mean_rto_Сыры',\n",
       "       'mean_rto_Рыба и рыбные изделия', 'mean_rto_Птица и изделия из птицы',\n",
       "       'mean_rto'],\n",
       "      dtype='object')"
      ]
     },
     "execution_count": 107,
     "metadata": {},
     "output_type": "execute_result"
    }
   ],
   "source": [
    "data.columns"
   ]
  },
  {
   "cell_type": "code",
   "execution_count": null,
   "metadata": {},
   "outputs": [],
   "source": [
    "models"
   ]
  },
  {
   "cell_type": "code",
   "execution_count": 46,
   "metadata": {},
   "outputs": [],
   "source": [
    "model = LGBMClassifier(random_state=666, max_depth=9, learning_rate=0.1, n_estimators=476)\n",
    "model.fit(features_train, target_train)\n",
    "\n",
    "predictions = model.predict(features_test)"
   ]
  },
  {
   "cell_type": "code",
   "execution_count": 47,
   "metadata": {},
   "outputs": [
    {
     "data": {
      "text/plain": [
       "Text(0, 0.5, 'Mean decrease in impurity')"
      ]
     },
     "execution_count": 47,
     "metadata": {},
     "output_type": "execute_result"
    },
    {
     "data": {
      "text/plain": [
       "<Figure size 720x360 with 0 Axes>"
      ]
     },
     "metadata": {},
     "output_type": "display_data"
    },
    {
     "data": {
      "image/png": "[encoded data removed]",
      "text/plain": [
       "<Figure size 432x288 with 1 Axes>"
      ]
     },
     "metadata": {
      "needs_background": "light"
     },
     "output_type": "display_data"
    }
   ],
   "source": [
    "importances = model.feature_importances_\n",
    "\n",
    "feature_importances = pd.Series(importances, index=features_train.columns).sort_values(ascending=False)\n",
    "\n",
    "plt.figure(figsize=(10, 5))\n",
    "fig, ax = plt.subplots()\n",
    "feature_importances.plot.bar(ax=ax)\n",
    "ax.set_title(\"Feature importances using\")\n",
    "ax.set_ylabel(\"Mean decrease in impurity\")\n"
   ]
  },
  {
   "cell_type": "code",
   "execution_count": null,
   "metadata": {},
   "outputs": [],
   "source": [
    "features_test.columns"
   ]
  }
 ],
 "metadata": {
  "accelerator": "GPU",
  "colab": {
   "collapsed_sections": [],
   "name": "Untitled2.ipynb",
   "provenance": []
  },
  "kernelspec": {
   "display_name": "Python 3 (ipykernel)",
   "language": "python",
   "name": "python3"
  },
  "language_info": {
   "codemirror_mode": {
    "name": "ipython",
    "version": 3
   },
   "file_extension": ".py",
   "mimetype": "text/x-python",
   "name": "python",
   "nbconvert_exporter": "python",
   "pygments_lexer": "ipython3",
   "version": "3.8.8"
  }
 },
 "nbformat": 4,
 "nbformat_minor": 4
}
